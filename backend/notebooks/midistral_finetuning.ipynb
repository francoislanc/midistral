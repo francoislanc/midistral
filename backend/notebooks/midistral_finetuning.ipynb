{
  "nbformat": 4,
  "nbformat_minor": 0,
  "metadata": {
    "colab": {
      "provenance": []
    },
    "kernelspec": {
      "name": "python3",
      "display_name": "Python 3"
    },
    "language_info": {
      "name": "python"
    }
  },
  "cells": [
    {
      "cell_type": "markdown",
      "source": [
        "# Midistral finetuning"
      ],
      "metadata": {
        "id": "f4-1HimTrlUD"
      }
    },
    {
      "cell_type": "markdown",
      "source": [
        "## Setup"
      ],
      "metadata": {
        "id": "LUoAMBgfr0fl"
      }
    },
    {
      "cell_type": "markdown",
      "source": [
        "### Install abcMIDI\n",
        "\n"
      ],
      "metadata": {
        "id": "lffTFmW0r-FO"
      }
    },
    {
      "cell_type": "code",
      "source": [
        "!git clone https://github.com/sshlien/abcmidi && cd abcmidi && make"
      ],
      "metadata": {
        "id": "X6EZcv1brpjZ",
        "collapsed": true
      },
      "execution_count": null,
      "outputs": []
    },
    {
      "cell_type": "code",
      "source": [
        "OLD_ENV_PATH = %env PATH\n",
        "%env PATH=$OLD_ENV_PATH:/content/abcmidi"
      ],
      "metadata": {
        "id": "e77Rdr2zr7LI",
        "collapsed": true
      },
      "execution_count": null,
      "outputs": []
    },
    {
      "cell_type": "code",
      "source": [
        "!abc2midi\n",
        "!midi2abc"
      ],
      "metadata": {
        "id": "ocFSzs8f-2F9"
      },
      "execution_count": null,
      "outputs": []
    },
    {
      "cell_type": "markdown",
      "source": [
        "### Install Midistral\n"
      ],
      "metadata": {
        "id": "kjyHHQmfxDAH"
      }
    },
    {
      "cell_type": "code",
      "source": [
        "!git clone https://github.com/francoislanc/midistral.git"
      ],
      "metadata": {
        "id": "hbvPyHqO7pMp"
      },
      "execution_count": null,
      "outputs": []
    },
    {
      "cell_type": "code",
      "source": [
        "%cd midistral/backend"
      ],
      "metadata": {
        "id": "bYOf72mfNzTN"
      },
      "execution_count": null,
      "outputs": []
    },
    {
      "cell_type": "code",
      "source": [
        "!apt install python3.10-venv"
      ],
      "metadata": {
        "id": "_wIodkHSN7f1"
      },
      "execution_count": null,
      "outputs": []
    },
    {
      "cell_type": "code",
      "source": [
        "!python3 -m venv .venv"
      ],
      "metadata": {
        "id": "tX0VhaaVOrcF"
      },
      "execution_count": null,
      "outputs": []
    },
    {
      "cell_type": "code",
      "source": [
        "!source .venv/bin/activate && pip install -e ."
      ],
      "metadata": {
        "id": "hcxJp7dwO8zE"
      },
      "execution_count": null,
      "outputs": []
    },
    {
      "cell_type": "markdown",
      "source": [
        "## Prepare the dataset"
      ],
      "metadata": {
        "id": "vKJAKUP4Bjtm"
      }
    },
    {
      "cell_type": "code",
      "source": [
        "!source .venv/bin/activate && midistral-cli prepare_dataset --keep_only_small_subset=False"
      ],
      "metadata": {
        "id": "qBy4wNCFBkyc"
      },
      "execution_count": null,
      "outputs": []
    },
    {
      "cell_type": "code",
      "source": [
        "!head -n 10 output/llm_finetuning_dataset-train.jsonl"
      ],
      "metadata": {
        "id": "ZQZ51HflDVE5"
      },
      "execution_count": null,
      "outputs": []
    },
    {
      "cell_type": "markdown",
      "source": [
        "## Finetune a LLM"
      ],
      "metadata": {
        "id": "zjJczll9LfXB"
      }
    },
    {
      "cell_type": "markdown",
      "source": [
        "### Set your API keys"
      ],
      "metadata": {
        "id": "8qxF581J1r7-"
      }
    },
    {
      "cell_type": "markdown",
      "source": [
        "Rename the file `midistral/backend/default.env` into `mistral-midi/backend/local.env` and adapt the `midistral/backend/local.env` file with your API keys\n",
        "\n",
        "```\n",
        "MISTRAL_API_KEY=xxxx\n",
        "WANDB_API_KEY=xxxx\n",
        "WANDB_PROJECT=xxxx\n",
        "```\n",
        "\n",
        "You can remove WANDB_API_KEY and WANDB_PROJECT if you don't use WANDB."
      ],
      "metadata": {
        "id": "318DqL7pToVd"
      }
    },
    {
      "cell_type": "markdown",
      "source": [
        "### Upload the data"
      ],
      "metadata": {
        "id": "fCRaeqwY10CN"
      }
    },
    {
      "cell_type": "code",
      "source": [
        "!source .venv/bin/activate && midistral-cli upload_dataset output/llm_finetuning_dataset-train.jsonl output/llm_finetuning_dataset-eval.jsonl output/upload_output.json\n",
        "!cat output/upload_output.json"
      ],
      "metadata": {
        "id": "7GQtDdLHBrd_"
      },
      "execution_count": null,
      "outputs": []
    },
    {
      "cell_type": "markdown",
      "source": [
        "### Start and monitor the finetuning"
      ],
      "metadata": {
        "id": "zujQ2oK914ft"
      }
    },
    {
      "cell_type": "code",
      "source": [
        "!source .venv/bin/activate && midistral-cli finetune --training_steps=20 output/upload_output.json output/finetune_output.json\n",
        "!cat output/finetune_output.json"
      ],
      "metadata": {
        "id": "JZYW_j4zLjm_"
      },
      "execution_count": null,
      "outputs": []
    },
    {
      "cell_type": "code",
      "source": [
        "!source .venv/bin/activate && midistral-cli monitor_finetuning_job output/finetune_output.json output/finetune_monitoring_output.json\n",
        "!cat output/finetune_monitoring_output.json"
      ],
      "metadata": {
        "id": "bWied6aZV3aa"
      },
      "execution_count": null,
      "outputs": []
    },
    {
      "cell_type": "markdown",
      "source": [
        "## Test and run inference"
      ],
      "metadata": {
        "id": "u5ivm9LLa9aN"
      }
    },
    {
      "cell_type": "code",
      "source": [
        "!source .venv/bin/activate && midistral-cli infer output/finetune_monitoring_output.json \"genre : electronic, pop\\nmood : energetic, melodic, dark, happy, epic\""
      ],
      "metadata": {
        "id": "znV5O63ObChv"
      },
      "execution_count": null,
      "outputs": []
    }
  ]
}