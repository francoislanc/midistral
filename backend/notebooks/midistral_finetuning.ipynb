{
  "cells": [
    {
      "cell_type": "markdown",
      "metadata": {
        "id": "f4-1HimTrlUD"
      },
      "source": [
        "# Midistral finetuning"
      ]
    },
    {
      "cell_type": "markdown",
      "metadata": {
        "id": "LUoAMBgfr0fl"
      },
      "source": [
        "## Setup"
      ]
    },
    {
      "cell_type": "markdown",
      "metadata": {
        "id": "lffTFmW0r-FO"
      },
      "source": [
        "### Install abcMIDI\n",
        "\n"
      ]
    },
    {
      "cell_type": "code",
      "execution_count": null,
      "metadata": {
        "collapsed": true,
        "id": "X6EZcv1brpjZ"
      },
      "outputs": [],
      "source": [
        "!git clone https://github.com/sshlien/abcmidi && cd abcmidi && make"
      ]
    },
    {
      "cell_type": "code",
      "execution_count": null,
      "metadata": {
        "collapsed": true,
        "id": "e77Rdr2zr7LI"
      },
      "outputs": [],
      "source": [
        "OLD_ENV_PATH = %env PATH\n",
        "%env PATH=$OLD_ENV_PATH:/content/abcmidi"
      ]
    },
    {
      "cell_type": "code",
      "execution_count": null,
      "metadata": {
        "id": "ocFSzs8f-2F9"
      },
      "outputs": [],
      "source": [
        "!abc2midi\n",
        "!midi2abc"
      ]
    },
    {
      "cell_type": "markdown",
      "metadata": {
        "id": "kjyHHQmfxDAH"
      },
      "source": [
        "### Install Midistral\n"
      ]
    },
    {
      "cell_type": "code",
      "execution_count": null,
      "metadata": {
        "id": "hbvPyHqO7pMp"
      },
      "outputs": [],
      "source": [
        "!git clone https://github.com/francoislanc/midistral.git"
      ]
    },
    {
      "cell_type": "code",
      "execution_count": null,
      "metadata": {
        "id": "bYOf72mfNzTN"
      },
      "outputs": [],
      "source": [
        "%cd midistral/backend"
      ]
    },
    {
      "cell_type": "code",
      "execution_count": null,
      "metadata": {
        "id": "_wIodkHSN7f1"
      },
      "outputs": [],
      "source": [
        "!apt install python3.10-venv"
      ]
    },
    {
      "cell_type": "code",
      "execution_count": null,
      "metadata": {
        "id": "tX0VhaaVOrcF"
      },
      "outputs": [],
      "source": [
        "!python3 -m venv .venv"
      ]
    },
    {
      "cell_type": "code",
      "execution_count": null,
      "metadata": {
        "id": "hcxJp7dwO8zE"
      },
      "outputs": [],
      "source": [
        "!source .venv/bin/activate && pip install -r notebooks/requirements.txt && pip install -e ."
      ]
    },
    {
      "cell_type": "markdown",
      "metadata": {
        "id": "vKJAKUP4Bjtm"
      },
      "source": [
        "## Prepare the dataset"
      ]
    },
    {
      "cell_type": "code",
      "execution_count": null,
      "metadata": {
        "id": "qBy4wNCFBkyc"
      },
      "outputs": [],
      "source": [
        "!source .venv/bin/activate && midistral-cli prepare_dataset --keep_only_small_subset=False"
      ]
    },
    {
      "cell_type": "code",
      "execution_count": null,
      "metadata": {
        "id": "ZQZ51HflDVE5"
      },
      "outputs": [],
      "source": [
        "!head -n 10 output/llm_finetuning_dataset-train.jsonl"
      ]
    },
    {
      "cell_type": "markdown",
      "metadata": {
        "id": "zjJczll9LfXB"
      },
      "source": [
        "## Finetune a LLM"
      ]
    },
    {
      "cell_type": "markdown",
      "metadata": {
        "id": "8qxF581J1r7-"
      },
      "source": [
        "### Set your API keys"
      ]
    },
    {
      "cell_type": "markdown",
      "metadata": {
        "id": "318DqL7pToVd"
      },
      "source": [
        "Rename the file `midistral/backend/default.env` into `mistral-midi/backend/local.env` and adapt the `midistral/backend/local.env` file with your API keys\n",
        "\n",
        "```\n",
        "MISTRAL_API_KEY=xxxx\n",
        "WANDB_API_KEY=xxxx\n",
        "WANDB_PROJECT=xxxx\n",
        "```\n",
        "\n",
        "You can remove WANDB_API_KEY and WANDB_PROJECT if you don't use WANDB."
      ]
    },
    {
      "cell_type": "markdown",
      "metadata": {
        "id": "fCRaeqwY10CN"
      },
      "source": [
        "### Upload the data"
      ]
    },
    {
      "cell_type": "code",
      "execution_count": null,
      "metadata": {
        "id": "7GQtDdLHBrd_"
      },
      "outputs": [],
      "source": [
        "!source .venv/bin/activate && midistral-cli upload_dataset output/llm_finetuning_dataset-train.jsonl output/llm_finetuning_dataset-eval.jsonl output/upload_output.json\n",
        "!cat output/upload_output.json"
      ]
    },
    {
      "cell_type": "markdown",
      "metadata": {
        "id": "zujQ2oK914ft"
      },
      "source": [
        "### Start and monitor the finetuning"
      ]
    },
    {
      "cell_type": "code",
      "execution_count": null,
      "metadata": {
        "id": "JZYW_j4zLjm_"
      },
      "outputs": [],
      "source": [
        "!source .venv/bin/activate && midistral-cli finetune --epochs=2 output/upload_output.json output/finetune_output.json\n",
        "!cat output/finetune_output.json"
      ]
    },
    {
      "cell_type": "code",
      "execution_count": null,
      "metadata": {
        "id": "bWied6aZV3aa"
      },
      "outputs": [],
      "source": [
        "!source .venv/bin/activate && midistral-cli monitor_finetuning_job output/finetune_output.json output/finetune_monitoring_output.json\n",
        "!cat output/finetune_monitoring_output.json"
      ]
    },
    {
      "cell_type": "markdown",
      "metadata": {
        "id": "u5ivm9LLa9aN"
      },
      "source": [
        "## Test and run inference"
      ]
    },
    {
      "cell_type": "code",
      "execution_count": null,
      "metadata": {
        "id": "znV5O63ObChv"
      },
      "outputs": [],
      "source": [
        "!source .venv/bin/activate && midistral-cli infer output/finetune_monitoring_output.json \"genre : electronic; mood : calm\""
      ]
    }
  ],
  "metadata": {
    "colab": {
      "provenance": []
    },
    "kernelspec": {
      "display_name": "Python 3",
      "name": "python3"
    },
    "language_info": {
      "name": "python"
    }
  },
  "nbformat": 4,
  "nbformat_minor": 0
}
