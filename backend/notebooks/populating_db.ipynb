{
 "cells": [
  {
   "cell_type": "code",
   "execution_count": null,
   "id": "d0f23ae3-d032-4e33-a5f0-19757064ac40",
   "metadata": {},
   "outputs": [],
   "source": [
    "from collections import Counter\n",
    "from pathlib import Path\n",
    "import os\n",
    "\n",
    "from datasets import load_from_disk\n",
    "from midistral.abc_utils import has_only_silence\n",
    "from midistral.db.firestore.crud import (\n",
    "    create_annotated_abc as firestore_create_annotated_abc,\n",
    ")\n",
    "from midistral.db.schemas import AnnotatedAbcCreate\n",
    "from midistral.db.sqlite.crud import create_annotated_abc as sqlite_create_annotated_abc\n",
    "from midistral.db.sqlite.database import Base, engine\n",
    "from midistral.types import AudioTextDescription\n",
    "from tqdm import tqdm"
   ]
  },
  {
   "cell_type": "code",
   "execution_count": null,
   "id": "142194fc-6e9c-4979-8413-a8d406916fbe",
   "metadata": {},
   "outputs": [],
   "source": [
    "Base.metadata.drop_all(bind=engine)\n",
    "Base.metadata.create_all(bind=engine)\n",
    "\n",
    "NOTEBOOKS_FOLDER = Path(os.getcwd())\n",
    "OUTPUT_FOLDER = NOTEBOOKS_FOLDER.parent / \"output\"\n",
    "midi_abc_dataset = load_from_disk(OUTPUT_FOLDER / \"datasets\" / \"midi_abc_dataset-train\")\n",
    "\n",
    "#  subset only of the dataset to simplify the problem\n",
    "midi_abc_dataset_subset = midi_abc_dataset.filter(\n",
    "    lambda r: r[\"midi_tracks_nums\"] <= 2\n",
    "    and r[\"duration\"] < 60\n",
    "    and r[\"duration\"] > 5\n",
    "    and \"[\" not in r[\"abc_notation\"]  # no chords\n",
    "    and \"(\" not in r[\"abc_notation\"]  # no slurs and ties\n",
    "    and \"%%MIDI program\" in r[\"abc_notation\"]\n",
    "    and len(r[\"instrument_summary\"]) == 1\n",
    "    and not has_only_silence(r[\"abc_notation\"])\n",
    ")\n",
    "print(midi_abc_dataset_subset)\n",
    "\n",
    "instruments_c = Counter()\n",
    "mood_c = Counter()\n",
    "genre_c = Counter()\n",
    "for r in tqdm(midi_abc_dataset_subset):\n",
    "    annotated_abc = AnnotatedAbcCreate(\n",
    "        abc_notation=r[\"abc_notation\"],\n",
    "        description=AudioTextDescription(\n",
    "            genre=[i.lower() for i in r[\"genre\"]],\n",
    "            mood=[i.lower() for i in r[\"mood\"]],\n",
    "            instruments=[i.lower() for i in r[\"instrument_summary\"]],\n",
    "            midi_instruments_num=None\n",
    "        ),\n",
    "    )\n",
    "    for i in r[\"instrument_summary\"]:\n",
    "        instruments_c[i.lower()] += 1\n",
    "    for i in r[\"mood\"]:\n",
    "        mood_c[i.lower()] += 1\n",
    "    for i in r[\"genre\"]:\n",
    "        genre_c[i.lower()] += 1\n",
    "    r = sqlite_create_annotated_abc(annotated_abc)\n",
    "    # r = firestore_create_annotated_abc(annotated_abc)\n",
    "print(instruments_c)\n",
    "print(mood_c)\n",
    "print(genre_c)"
   ]
  },
  {
   "cell_type": "code",
   "execution_count": null,
   "id": "3de25ddd-c9f1-435a-a3dd-b99cd149756a",
   "metadata": {},
   "outputs": [],
   "source": [
    "from midistral.db.sqlite.crud import (\n",
    "    get_annotated_abcs_from_description as sqlite_get_annotated_abcs_from_description,\n",
    ")\n",
    "\n",
    "description = AudioTextDescription(genre=[\"pop\",\"soundtrack\"], mood=[\"melodic\",\"film\",\"relaxing\",\"dark\",\"energetic\"], instruments=[\"piano\"])\n",
    "\n",
    "print(\"looking for \")\n",
    "print(description)\n",
    "res = sqlite_get_annotated_abcs_from_description(description, 5)\n",
    "for r in res:\n",
    "    print(r.description)"
   ]
  }
 ],
 "metadata": {
  "kernelspec": {
   "display_name": "Python 3 (ipykernel)",
   "language": "python",
   "name": "python3"
  },
  "language_info": {
   "codemirror_mode": {
    "name": "ipython",
    "version": 3
   },
   "file_extension": ".py",
   "mimetype": "text/x-python",
   "name": "python",
   "nbconvert_exporter": "python",
   "pygments_lexer": "ipython3",
   "version": "3.11.0rc1"
  }
 },
 "nbformat": 4,
 "nbformat_minor": 5
}
