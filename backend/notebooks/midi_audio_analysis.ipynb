{
 "cells": [
  {
   "cell_type": "code",
   "execution_count": null,
   "id": "1cc112b2-693e-4ddb-a27b-aad61692c179",
   "metadata": {},
   "outputs": [],
   "source": [
    "import glob\n",
    "import json\n",
    "import os\n",
    "from pathlib import Path\n",
    "\n",
    "from midistral.audio_analysis import (\n",
    "    download_models,\n",
    "    get_chords,\n",
    "    get_mood_and_genre,\n",
    ")\n",
    "from midistral.midi_utils import (\n",
    "    convert_midi_to_ogg,\n",
    "    get_duration,\n",
    "    get_instruments,\n",
    "    get_key,\n",
    "    get_tempo,\n",
    "    get_time_signature,\n",
    ")\n",
    "from tqdm import tqdm"
   ]
  },
  {
   "cell_type": "code",
   "execution_count": null,
   "id": "9ed74ce1-8bdf-44a1-b24d-f3bbbd67cc69",
   "metadata": {},
   "outputs": [],
   "source": [
    "download_models()"
   ]
  },
  {
   "cell_type": "code",
   "execution_count": null,
   "id": "5f6f570c-a517-4892-8819-ea434b7f617f",
   "metadata": {},
   "outputs": [],
   "source": [
    "NOTEBOOKS_FOLDER = Path(os.getcwd())\n",
    "OUTPUT_FOLDER = NOTEBOOKS_FOLDER.parent / \"output\"\n",
    "DATA_FOLDER = NOTEBOOKS_FOLDER.parent / \"data\"\n",
    "\n",
    "DATASET_NAME = \"vgm\"\n",
    "ANNOTATION_OUTPUT_PATH = OUTPUT_FOLDER / f\"annotations_{DATASET_NAME}_output.jsonl\"\n",
    "TMP_WAV_FOLDER = OUTPUT_FOLDER / \"tmp_wav\" / DATASET_NAME\n",
    "MIDI_FOLDER_TO_PROCESS = DATA_FOLDER / DATASET_NAME\n",
    "\n",
    "TMP_WAV_FOLDER.mkdir(exist_ok=True, parents=True)"
   ]
  },
  {
   "cell_type": "code",
   "execution_count": null,
   "id": "045e48aa-3b98-4f30-bb9e-f6b0f533d47f",
   "metadata": {},
   "outputs": [],
   "source": [
    "mid_l = glob.glob(f\"{MIDI_FOLDER_TO_PROCESS}/**/*.mid\", recursive=True)\n",
    "with ANNOTATION_OUTPUT_PATH.open(\"w\", encoding=\"utf8\") as f:\n",
    "    for mid in tqdm(mid_l):\n",
    "        mid_p = Path(mid)\n",
    "\n",
    "        # generate audio wav\n",
    "        audio_wav_file = TMP_WAV_FOLDER / f\"{mid_p.stem}.wav\"\n",
    "        if not audio_wav_file.exists():\n",
    "            convert_midi_to_ogg(mid_p, audio_wav_file)\n",
    "\n",
    "        # analyse midi or wav file\n",
    "        chords_out, chord_summary = get_chords(audio_wav_file)\n",
    "        mood_tags, mood_cs, genre_tags, genre_cs = get_mood_and_genre(audio_wav_file)\n",
    "        key = get_key(mid_p)\n",
    "        time_signature = get_time_signature(mid_p)\n",
    "        bpm = get_tempo(mid_p)\n",
    "        dur = get_duration(mid_p)\n",
    "        instrument_numbers_sorted, instrument_summary = get_instruments(mid_p)\n",
    "\n",
    "        # log analysis results\n",
    "        row = {\n",
    "            \"location\": str(mid_p),\n",
    "            \"genre\": genre_tags[:2],\n",
    "            \"genre_prob\": genre_cs[:2],\n",
    "            \"mood\": mood_tags,\n",
    "            \"mood_prob\": mood_cs,\n",
    "            \"key\": key,\n",
    "            \"time_signature\": time_signature,\n",
    "            \"tempo\": bpm,\n",
    "            \"tempo_word\": \"\",\n",
    "            \"duration\": dur,\n",
    "            \"duration_word\": \"\",\n",
    "            \"chord_summary\": chord_summary,\n",
    "            \"chord_summary_occurence\": 0,\n",
    "            \"instrument_summary\": instrument_summary,\n",
    "            \"instrument_numbers_sorted\": instrument_numbers_sorted,\n",
    "            \"all_chords\": [e[0] for e in chords_out],\n",
    "            \"all_chords_timestamps\": [e[1] for e in chords_out],\n",
    "        }\n",
    "        f.write(json.dumps(row) + \"\\n\")\n",
    "        f.flush()\n"
   ]
  },
  {
   "cell_type": "code",
   "execution_count": null,
   "id": "1e364354-566d-4a46-b101-aabfcf3106e8",
   "metadata": {},
   "outputs": [],
   "source": []
  }
 ],
 "metadata": {
  "kernelspec": {
   "display_name": "Python 3 (ipykernel)",
   "language": "python",
   "name": "python3"
  },
  "language_info": {
   "codemirror_mode": {
    "name": "ipython",
    "version": 3
   },
   "file_extension": ".py",
   "mimetype": "text/x-python",
   "name": "python",
   "nbconvert_exporter": "python",
   "pygments_lexer": "ipython3",
   "version": "3.11.4"
  }
 },
 "nbformat": 4,
 "nbformat_minor": 5
}
